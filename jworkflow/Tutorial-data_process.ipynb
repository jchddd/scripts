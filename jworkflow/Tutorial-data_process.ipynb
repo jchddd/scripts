{
 "cells": [
  {
   "cell_type": "markdown",
   "metadata": {},
   "source": [
    "This Notebook provides an overview of the usage of the **Adss_DataExtract_PostProcess** class in the **data** script.：\n",
    "- **Adss_DataExtract_PostProcess**：Extract data from the VASP output files or post-process the VASP structure to make it suitable for frequency and differential charge density calculations."
   ]
  },
  {
   "cell_type": "code",
   "execution_count": 1,
   "metadata": {
    "ExecuteTime": {
     "end_time": "2024-03-22T13:44:31.296000Z",
     "start_time": "2024-03-22T13:44:28.938000Z"
    }
   },
   "outputs": [],
   "source": [
    "from Jworkflow.data_process import Adss_DataExtract_PostProcess"
   ]
  },
  {
   "cell_type": "markdown",
   "metadata": {},
   "source": [
    "# Adss_DataExtract_PostProcess"
   ]
  },
  {
   "cell_type": "markdown",
   "metadata": {},
   "source": [
    "If you need to process adsorption-related data, you can set the element of the molecule and the height criterion of the molecule through the **reset_type_element** and **set_height_filter**\n",
    "\n",
    "**reset_type_element** sets two types of elements, one is all the elements contained in the adsorbate, and the other is the element of the adsorbate skeleton (mainly used to determine whether the adsorbate has decomposed and rotated).\n",
    "\n",
    "**set_height_filter** sets a height criterion so that only atoms above a certain level can be included in the molecule. It is mainly used when the substrate contains elements of the same type as the adsorbate. You can also let **ADP.height_type='z'** to use a numerical height criterion.  \n",
    "\n",
    "Here we mainly consider the NRR reaction. The adsorbed molecule has two elements, N and H. N is set as the skeleton of the molecule, and the molecule must be an atom above the fourth layer (counting from 0).  \n",
    "\n",
    "You also need to pay attention to the name of the POSCAR file. This script compares the movement of atoms before and after optimization by comparing POSCAR and CONTCAR. I am used to saving the initial structure as a new file and naming it POSCARoo, which is also the default value of the POSCAR file name."
   ]
  },
  {
   "cell_type": "code",
   "execution_count": 2,
   "metadata": {
    "ExecuteTime": {
     "end_time": "2024-03-22T13:44:31.316000Z",
     "start_time": "2024-03-22T13:44:31.297000Z"
    }
   },
   "outputs": [
    {
     "name": "stdout",
     "output_type": "stream",
     "text": [
      "---------------------------Reset type element----------------------------\n",
      "                 Adsorbate elements : ['N', 'H']\n",
      "                  Skeleton elements : ['N']\n",
      "-----------------------------------End-----------------------------------\n",
      "----------------------------Set_height_filter----------------------------\n",
      "                   Height threshold : 3\n",
      "                        Height type : layer\n",
      "-----------------------------------End-----------------------------------\n"
     ]
    }
   ],
   "source": [
    "ADP = Adss_DataExtract_PostProcess()\n",
    "ADP.reset_type_element(['N', 'H'], ['N'])\n",
    "ADP.set_height_filter(3)\n",
    "#ADP.poscar = 'POSCAR'"
   ]
  },
  {
   "cell_type": "markdown",
   "metadata": {},
   "source": [
    "## extract\n",
    "Use extract to grab VASP outputs. \n",
    "### Key parameters\n",
    "- **path**：Specifies the path for VASP results\n",
    "- **task_type**：Specifies the type for VASP results\n",
    "\n",
    "**task_type** can be **'adss'**, **'slab'**, **'Gcor'** or **'sta'**. They stand for molecular adsorption, surface relaxation, free energy correction (**ther_info** file obtained by redirecting the output of vaspkit free energy correction) and single point energy calculation.\n",
    "\n",
    "### Example\n",
    "Below, we extract VASP results of different task types respectively and store the data of corresponding tasks in excel tables.\n",
    "\n",
    "#### Grab adsorption energy calculation results\n",
    "The information obtained by scraping mainly includes computational convergence information, the degree of molecular and surface reconstruction, and molecular adsorption related information (obtained from the names defined by the **slab** script after adding adsorbed molecules)."
   ]
  },
  {
   "cell_type": "code",
   "execution_count": 3,
   "metadata": {
    "ExecuteTime": {
     "end_time": "2024-03-22T13:44:32.917000Z",
     "start_time": "2024-03-22T13:44:31.320000Z"
    }
   },
   "outputs": [
    {
     "name": "stdout",
     "output_type": "stream",
     "text": [
      "---------------------------------Extract---------------------------------\n",
      "                          Direction : example\\data_process&reaction\\res_adss\\Output_file\n",
      "                          Task type : adss\n",
      "                   Extract progress : Compeleted\n",
      "                     DataFrame sort : Compeleted\n",
      "                         Write file : False\n",
      "-----------------------------------End-----------------------------------\n"
     ]
    }
   ],
   "source": [
    "df_adss = ADP.extract(r'example\\data_process&reaction\\res_adss\\Output_file', 'adss')\n",
    "df_adss.to_excel(r'example\\data_process&reaction\\adss.xlsx')"
   ]
  },
  {
   "cell_type": "code",
   "execution_count": 4,
   "metadata": {
    "ExecuteTime": {
     "end_time": "2024-03-22T13:44:32.945000Z",
     "start_time": "2024-03-22T13:44:32.918000Z"
    }
   },
   "outputs": [
    {
     "data": {
      "text/html": [
       "<div>\n",
       "<style scoped>\n",
       "    .dataframe tbody tr th:only-of-type {\n",
       "        vertical-align: middle;\n",
       "    }\n",
       "\n",
       "    .dataframe tbody tr th {\n",
       "        vertical-align: top;\n",
       "    }\n",
       "\n",
       "    .dataframe thead th {\n",
       "        text-align: right;\n",
       "    }\n",
       "</style>\n",
       "<table border=\"1\" class=\"dataframe\">\n",
       "  <thead>\n",
       "    <tr style=\"text-align: right;\">\n",
       "      <th></th>\n",
       "      <th>ads_sys</th>\n",
       "      <th>system</th>\n",
       "      <th>adsb</th>\n",
       "      <th>site</th>\n",
       "      <th>rotate</th>\n",
       "      <th>energy</th>\n",
       "      <th>converg</th>\n",
       "      <th>mtransla_skel</th>\n",
       "      <th>mupgrade_skel</th>\n",
       "      <th>mtransla_adsb</th>\n",
       "      <th>mdista_adsb</th>\n",
       "      <th>mshift_slab</th>\n",
       "      <th>mtransla_slab</th>\n",
       "      <th>mupgrade_slab</th>\n",
       "      <th>Etime</th>\n",
       "      <th>setp</th>\n",
       "    </tr>\n",
       "  </thead>\n",
       "  <tbody>\n",
       "    <tr>\n",
       "      <th>0</th>\n",
       "      <td>Ga3Sc_N2h_45_0t</td>\n",
       "      <td>Ga3Sc</td>\n",
       "      <td>N2h</td>\n",
       "      <td>0t</td>\n",
       "      <td>45</td>\n",
       "      <td>-84.117410</td>\n",
       "      <td>True</td>\n",
       "      <td>0.056</td>\n",
       "      <td>1.048</td>\n",
       "      <td>0.056</td>\n",
       "      <td>0.002</td>\n",
       "      <td>0.115</td>\n",
       "      <td>0.037</td>\n",
       "      <td>0.111</td>\n",
       "      <td>1064.364</td>\n",
       "      <td>87</td>\n",
       "    </tr>\n",
       "    <tr>\n",
       "      <th>1</th>\n",
       "      <td>Ga3Sc_N2h_90_1t</td>\n",
       "      <td>Ga3Sc</td>\n",
       "      <td>N2h</td>\n",
       "      <td>1t</td>\n",
       "      <td>90</td>\n",
       "      <td>-84.061876</td>\n",
       "      <td>True</td>\n",
       "      <td>0.291</td>\n",
       "      <td>2.125</td>\n",
       "      <td>0.291</td>\n",
       "      <td>-0.012</td>\n",
       "      <td>0.161</td>\n",
       "      <td>0.042</td>\n",
       "      <td>0.159</td>\n",
       "      <td>1459.964</td>\n",
       "      <td>163</td>\n",
       "    </tr>\n",
       "    <tr>\n",
       "      <th>2</th>\n",
       "      <td>Ga3Sc_N2v_0_0t</td>\n",
       "      <td>Ga3Sc</td>\n",
       "      <td>N2v</td>\n",
       "      <td>0t</td>\n",
       "      <td>0</td>\n",
       "      <td>-84.610355</td>\n",
       "      <td>True</td>\n",
       "      <td>0.000</td>\n",
       "      <td>0.628</td>\n",
       "      <td>0.000</td>\n",
       "      <td>-0.001</td>\n",
       "      <td>0.118</td>\n",
       "      <td>0.027</td>\n",
       "      <td>0.115</td>\n",
       "      <td>796.715</td>\n",
       "      <td>69</td>\n",
       "    </tr>\n",
       "  </tbody>\n",
       "</table>\n",
       "</div>"
      ],
      "text/plain": [
       "           ads_sys system adsb site rotate     energy  converg  mtransla_skel  \\\n",
       "0  Ga3Sc_N2h_45_0t  Ga3Sc  N2h   0t     45 -84.117410     True          0.056   \n",
       "1  Ga3Sc_N2h_90_1t  Ga3Sc  N2h   1t     90 -84.061876     True          0.291   \n",
       "2   Ga3Sc_N2v_0_0t  Ga3Sc  N2v   0t      0 -84.610355     True          0.000   \n",
       "\n",
       "   mupgrade_skel  mtransla_adsb  mdista_adsb  mshift_slab  mtransla_slab  \\\n",
       "0          1.048          0.056        0.002        0.115          0.037   \n",
       "1          2.125          0.291       -0.012        0.161          0.042   \n",
       "2          0.628          0.000       -0.001        0.118          0.027   \n",
       "\n",
       "   mupgrade_slab     Etime  setp  \n",
       "0          0.111  1064.364    87  \n",
       "1          0.159  1459.964   163  \n",
       "2          0.115   796.715    69  "
      ]
     },
     "execution_count": 4,
     "metadata": {},
     "output_type": "execute_result"
    }
   ],
   "source": [
    "df_adss[:3]"
   ]
  },
  {
   "cell_type": "markdown",
   "metadata": {},
   "source": [
    "- converg represents whether the calculation converges. \n",
    "- The first \"m\" in the following distance indicates what is calculated is the maximum travel distance of a single atom.\n",
    "- The second represents the calculation method of the distance, transla (plane travel distance), upgrade (Z-axis travel distance), dista (distance change between atoms), shift (3-dimensional travel distance).\n",
    "- The third represents the types of atoms included in calculating the distance criterion, adsb/skel (adsorbate), slab (surface).\n",
    "- All distances are a measure of the change in position of a single atom or pair of atoms before and after optimization, in angstroms."
   ]
  },
  {
   "cell_type": "markdown",
   "metadata": {},
   "source": [
    "#### Grab surface relaxation results"
   ]
  },
  {
   "cell_type": "code",
   "execution_count": 5,
   "metadata": {
    "ExecuteTime": {
     "end_time": "2024-03-22T13:44:33.218000Z",
     "start_time": "2024-03-22T13:44:32.947000Z"
    }
   },
   "outputs": [
    {
     "name": "stdout",
     "output_type": "stream",
     "text": [
      "---------------------------------Extract---------------------------------\n",
      "                          Direction : example\\data_process&reaction\\res_slab\\Output_file\n",
      "                          Task type : slab\n",
      "\r",
      "                   Extract progress : 33.33%\r",
      "                   Extract progress : Compeleted\n",
      "                     DataFrame sort : Compeleted\n",
      "                         Write file : False\n",
      "-----------------------------------End-----------------------------------\n"
     ]
    }
   ],
   "source": [
    "df_slab = ADP.extract(r'example\\data_process&reaction\\res_slab\\Output_file', 'slab')\n",
    "df_slab.to_excel(r'example\\data_process&reaction\\slab.xlsx')"
   ]
  },
  {
   "cell_type": "code",
   "execution_count": 6,
   "metadata": {
    "ExecuteTime": {
     "end_time": "2024-03-22T13:44:33.234000Z",
     "start_time": "2024-03-22T13:44:33.220000Z"
    }
   },
   "outputs": [
    {
     "data": {
      "text/html": [
       "<div>\n",
       "<style scoped>\n",
       "    .dataframe tbody tr th:only-of-type {\n",
       "        vertical-align: middle;\n",
       "    }\n",
       "\n",
       "    .dataframe tbody tr th {\n",
       "        vertical-align: top;\n",
       "    }\n",
       "\n",
       "    .dataframe thead th {\n",
       "        text-align: right;\n",
       "    }\n",
       "</style>\n",
       "<table border=\"1\" class=\"dataframe\">\n",
       "  <thead>\n",
       "    <tr style=\"text-align: right;\">\n",
       "      <th></th>\n",
       "      <th>system</th>\n",
       "      <th>energy</th>\n",
       "      <th>converg</th>\n",
       "      <th>mshift_slab</th>\n",
       "      <th>ashift_slab</th>\n",
       "      <th>mtransla_slab</th>\n",
       "      <th>mupgrade_slab</th>\n",
       "      <th>Etime</th>\n",
       "      <th>setp</th>\n",
       "    </tr>\n",
       "  </thead>\n",
       "  <tbody>\n",
       "    <tr>\n",
       "      <th>0</th>\n",
       "      <td>Ga3Sc</td>\n",
       "      <td>-67.373818</td>\n",
       "      <td>True</td>\n",
       "      <td>0.141</td>\n",
       "      <td>0.041</td>\n",
       "      <td>0.037</td>\n",
       "      <td>-0.141</td>\n",
       "      <td>413.217</td>\n",
       "      <td>17</td>\n",
       "    </tr>\n",
       "    <tr>\n",
       "      <th>1</th>\n",
       "      <td>ScYTiGaGeSn</td>\n",
       "      <td>-78.635955</td>\n",
       "      <td>True</td>\n",
       "      <td>0.678</td>\n",
       "      <td>0.177</td>\n",
       "      <td>0.661</td>\n",
       "      <td>-0.342</td>\n",
       "      <td>3872.376</td>\n",
       "      <td>28</td>\n",
       "    </tr>\n",
       "    <tr>\n",
       "      <th>2</th>\n",
       "      <td>Sn3Y</td>\n",
       "      <td>-79.482628</td>\n",
       "      <td>True</td>\n",
       "      <td>0.295</td>\n",
       "      <td>0.059</td>\n",
       "      <td>0.076</td>\n",
       "      <td>-0.295</td>\n",
       "      <td>634.256</td>\n",
       "      <td>8</td>\n",
       "    </tr>\n",
       "  </tbody>\n",
       "</table>\n",
       "</div>"
      ],
      "text/plain": [
       "        system     energy  converg  mshift_slab  ashift_slab  mtransla_slab  \\\n",
       "0        Ga3Sc -67.373818     True        0.141        0.041          0.037   \n",
       "1  ScYTiGaGeSn -78.635955     True        0.678        0.177          0.661   \n",
       "2         Sn3Y -79.482628     True        0.295        0.059          0.076   \n",
       "\n",
       "   mupgrade_slab     Etime  setp  \n",
       "0         -0.141   413.217    17  \n",
       "1         -0.342  3872.376    28  \n",
       "2         -0.295   634.256     8  "
      ]
     },
     "execution_count": 6,
     "metadata": {},
     "output_type": "execute_result"
    }
   ],
   "source": [
    "df_slab[:3]"
   ]
  },
  {
   "cell_type": "markdown",
   "metadata": {},
   "source": [
    "#### Grab free energy corrects results"
   ]
  },
  {
   "cell_type": "code",
   "execution_count": 7,
   "metadata": {
    "ExecuteTime": {
     "end_time": "2024-03-22T13:44:33.392000Z",
     "start_time": "2024-03-22T13:44:33.241000Z"
    }
   },
   "outputs": [
    {
     "name": "stdout",
     "output_type": "stream",
     "text": [
      "---------------------------------Extract---------------------------------\n",
      "                          Direction : example\\data_process&reaction\\res_fre\\Output_file\n",
      "                          Task type : Gcor\n",
      "\r",
      "                   Extract progress : 6.67%\r",
      "                   Extract progress : 46.67%\r",
      "                   Extract progress : 86.67%\r",
      "                   Extract progress : Compeleted\n",
      "                     DataFrame sort : Compeleted\n",
      "                         Write file : False\n",
      "-----------------------------------End-----------------------------------\n"
     ]
    }
   ],
   "source": [
    "df_slab = ADP.extract(r'example\\data_process&reaction\\res_fre\\Output_file', 'Gcor')\n",
    "df_slab.to_excel(r'example\\data_process&reaction\\Gcor.xlsx')"
   ]
  },
  {
   "cell_type": "code",
   "execution_count": 8,
   "metadata": {
    "ExecuteTime": {
     "end_time": "2024-03-22T13:44:33.420000Z",
     "start_time": "2024-03-22T13:44:33.394000Z"
    }
   },
   "outputs": [
    {
     "data": {
      "text/html": [
       "<div>\n",
       "<style scoped>\n",
       "    .dataframe tbody tr th:only-of-type {\n",
       "        vertical-align: middle;\n",
       "    }\n",
       "\n",
       "    .dataframe tbody tr th {\n",
       "        vertical-align: top;\n",
       "    }\n",
       "\n",
       "    .dataframe thead th {\n",
       "        text-align: right;\n",
       "    }\n",
       "</style>\n",
       "<table border=\"1\" class=\"dataframe\">\n",
       "  <thead>\n",
       "    <tr style=\"text-align: right;\">\n",
       "      <th></th>\n",
       "      <th>ads_sys</th>\n",
       "      <th>system</th>\n",
       "      <th>adsb</th>\n",
       "      <th>G</th>\n",
       "      <th>ZPE</th>\n",
       "      <th>H</th>\n",
       "      <th>S</th>\n",
       "      <th>TS</th>\n",
       "    </tr>\n",
       "  </thead>\n",
       "  <tbody>\n",
       "    <tr>\n",
       "      <th>0</th>\n",
       "      <td>Ga3Sc_N2v_0_0t</td>\n",
       "      <td>Ga3Sc</td>\n",
       "      <td>N2v</td>\n",
       "      <td>0.104764</td>\n",
       "      <td>0.196273</td>\n",
       "      <td>0.082376</td>\n",
       "      <td>0.000583</td>\n",
       "      <td>0.173821</td>\n",
       "    </tr>\n",
       "    <tr>\n",
       "      <th>1</th>\n",
       "      <td>Ga3Sc_NH2_45_0t</td>\n",
       "      <td>Ga3Sc</td>\n",
       "      <td>NH2</td>\n",
       "      <td>0.528516</td>\n",
       "      <td>0.623350</td>\n",
       "      <td>0.083402</td>\n",
       "      <td>0.000598</td>\n",
       "      <td>0.178294</td>\n",
       "    </tr>\n",
       "    <tr>\n",
       "      <th>2</th>\n",
       "      <td>Ga3Sc_NH3_0_0t</td>\n",
       "      <td>Ga3Sc</td>\n",
       "      <td>NH3</td>\n",
       "      <td>0.899295</td>\n",
       "      <td>0.996729</td>\n",
       "      <td>0.088659</td>\n",
       "      <td>0.000624</td>\n",
       "      <td>0.186046</td>\n",
       "    </tr>\n",
       "  </tbody>\n",
       "</table>\n",
       "</div>"
      ],
      "text/plain": [
       "           ads_sys system adsb         G       ZPE         H         S  \\\n",
       "0   Ga3Sc_N2v_0_0t  Ga3Sc  N2v  0.104764  0.196273  0.082376  0.000583   \n",
       "1  Ga3Sc_NH2_45_0t  Ga3Sc  NH2  0.528516  0.623350  0.083402  0.000598   \n",
       "2   Ga3Sc_NH3_0_0t  Ga3Sc  NH3  0.899295  0.996729  0.088659  0.000624   \n",
       "\n",
       "         TS  \n",
       "0  0.173821  \n",
       "1  0.178294  \n",
       "2  0.186046  "
      ]
     },
     "execution_count": 8,
     "metadata": {},
     "output_type": "execute_result"
    }
   ],
   "source": [
    "df_slab[:3]"
   ]
  },
  {
   "cell_type": "markdown",
   "metadata": {},
   "source": [
    "## process_POSCAR\n",
    "Post-process VASP structures to make them suitable for frequency and differential charge density calculations.\n",
    "\n",
    "### Key parameters\n",
    "- path：Specifies the path for VASP results\n",
    "- deal_type：Specifies the type of post-processing，'fre' or 'chargediff'\n",
    "\n",
    "### Example\n",
    "We first move the most stable adsorption configuration of each adsorbate on each surface to the **adss_stablest** folder through screening and analysis (which can be assisted by the **reaction** script).\n",
    "\n",
    "These structures are processed using **process_POSCAR** to obtain POSCARs suitable for frequency calculation, and new POSCARs are stored in the **fre** folder."
   ]
  },
  {
   "cell_type": "code",
   "execution_count": 9,
   "metadata": {
    "ExecuteTime": {
     "end_time": "2024-03-22T13:44:33.580000Z",
     "start_time": "2024-03-22T13:44:33.429000Z"
    }
   },
   "outputs": [
    {
     "name": "stdout",
     "output_type": "stream",
     "text": [
      "-----------------------------Process POSCAR------------------------------\n",
      "                          Direction : example/data_process&reaction/adss_stablest\n",
      "                          Deal type : fre\n",
      "                  Created direction : fre\n",
      "-----------------------------------END-----------------------------------\n"
     ]
    }
   ],
   "source": [
    "ADP.process_POSCAR(r'example/data_process&reaction/adss_stablest', 'fre')"
   ]
  },
  {
   "cell_type": "markdown",
   "metadata": {},
   "source": [
    "These structures are again processed using **process_POSCAR**, this time separating the surface and adsorbate to obtain POSCARs suitable for differential charge density calculations.\n",
    "\n",
    "After processing, the surface, molecules, and the original adsorption configuration are stored separately in **chargediff\\slab**，**chargediff/adsb** and **chargediff/all**。"
   ]
  },
  {
   "cell_type": "code",
   "execution_count": 10,
   "metadata": {
    "ExecuteTime": {
     "end_time": "2024-03-22T13:44:33.764000Z",
     "start_time": "2024-03-22T13:44:33.582000Z"
    }
   },
   "outputs": [
    {
     "name": "stdout",
     "output_type": "stream",
     "text": [
      "-----------------------------Process POSCAR------------------------------\n",
      "                          Direction : example/data_process&reaction/adss_stablest\n",
      "                          Deal type : chargediff\n",
      "                  Created direction : chargediff\n",
      "-----------------------------------END-----------------------------------\n"
     ]
    }
   ],
   "source": [
    "ADP.process_POSCAR(r'example/data_process&reaction/adss_stablest', 'chargediff')"
   ]
  }
 ],
 "metadata": {
  "kernelspec": {
   "display_name": "Python 3",
   "language": "python",
   "name": "python3"
  },
  "language_info": {
   "codemirror_mode": {
    "name": "ipython",
    "version": 3
   },
   "file_extension": ".py",
   "mimetype": "text/x-python",
   "name": "python",
   "nbconvert_exporter": "python",
   "pygments_lexer": "ipython3",
   "version": "3.8.0"
  },
  "toc": {
   "base_numbering": 1,
   "nav_menu": {},
   "number_sections": true,
   "sideBar": true,
   "skip_h1_title": false,
   "title_cell": "Table of Contents",
   "title_sidebar": "Contents",
   "toc_cell": false,
   "toc_position": {},
   "toc_section_display": true,
   "toc_window_display": false
  }
 },
 "nbformat": 4,
 "nbformat_minor": 4
}
