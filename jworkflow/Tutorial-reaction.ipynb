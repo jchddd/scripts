{
 "cells": [
  {
   "cell_type": "markdown",
   "metadata": {},
   "source": [
    "This Jupyter notebook describes the use of the **reaction** script, which is mainly used to quickly calculate the energy change of each reaction step  \n",
    "- Catalytic_Post_Process: Read adsorption energy calculation results from VASP and calculate reaction energy change\n"
   ]
  },
  {
   "cell_type": "code",
   "execution_count": 1,
   "metadata": {
    "ExecuteTime": {
     "end_time": "2024-03-22T13:44:51.106000Z",
     "start_time": "2024-03-22T13:44:49.652000Z"
    }
   },
   "outputs": [],
   "source": [
    "from Jworkflow.reaction import Catalytic_Post_Process"
   ]
  },
  {
   "cell_type": "markdown",
   "metadata": {},
   "source": [
    "# Catalytic_Post_Process\n",
    "## Screening the most stable structure and calculating the reaction energy\n",
    "The script is used to select the most stable configuration from a series of adsorption calculations, and analyze the energy change in the reaction process\n",
    "\n",
    "First, the adsorption energy calculation results(adss: adsorption structures), slab energy calculation results and possible free energy correction results stored in excel files are read. Put them in the same folder and read them. It is best to generate these files through the **data_process** script."
   ]
  },
  {
   "cell_type": "code",
   "execution_count": 2,
   "metadata": {
    "ExecuteTime": {
     "end_time": "2024-03-22T13:44:51.928000Z",
     "start_time": "2024-03-22T13:44:51.108000Z"
    }
   },
   "outputs": [
    {
     "name": "stdout",
     "output_type": "stream",
     "text": [
      "--------------------------------Read Data--------------------------------\n",
      "                          Adss Data : Read Complete - (42, 16)\n",
      "                          Slab Data : Read Complete - (3, 9)\n",
      "                          Gcor Data : Read Complete - (15, 8)\n",
      "                          Task type : calculate energy and G correction\n",
      "-----------------------------Read Compelete------------------------------\n"
     ]
    }
   ],
   "source": [
    "CPP = Catalytic_Post_Process()\n",
    "CPP.read_excel('adss.xlsx', 'slab.xlsx', 'Gcor.xlsx', file_path=r'example\\data_process&reaction')"
   ]
  },
  {
   "cell_type": "markdown",
   "metadata": {
    "ExecuteTime": {
     "end_time": "2024-08-27T12:03:20.542000Z",
     "start_time": "2024-08-27T12:03:20.527000Z"
    }
   },
   "source": [
    "The result read by **data_process** contains some information about the movement of the surface or adsorbate atoms, the convergence of the calculation, etc., according to this information, the calculation result can be initially filtered. If the calculation result is correct, skip this step.\n",
    "\n",
    "In this function, two criteria are defined. The first one, **criteria_broken**, is used to determine the structures that are broken and need to be discarded. The second one, **criteria_inspect**, is for structures that have some issues but it's not certain whether they should be finally accepted. In the example provided, results where the adsorbate molecule moves too far upwards (not adsorbed) or the bond length of the adsorbate is too large (molecular decomposition) are discarded. Results with significant surface changes or calculations that have not converged are considered for further inspection."
   ]
  },
  {
   "cell_type": "code",
   "execution_count": 3,
   "metadata": {
    "ExecuteTime": {
     "end_time": "2024-03-22T13:44:51.946000Z",
     "start_time": "2024-03-22T13:44:51.930000Z"
    }
   },
   "outputs": [
    {
     "name": "stdout",
     "output_type": "stream",
     "text": [
      "---------------------------Filter by Criteria----------------------------\n",
      "                        Data total  : 42\n",
      "                        Data broken : 7\n",
      "                       Data inspect : 5\n",
      "                        Data remain : 30\n",
      "------------------------------Filter Finish------------------------------\n"
     ]
    }
   ],
   "source": [
    "CPP.filter_by_criteria(criteria_broken=\"(df['mupgrade_skel'] > 1.5) | (df['mdista_adsb'] > 0.6)\", \n",
    "                       criteria_inspect=\"(df['mshift_slab'] > 0.8) | (df['converg'] == False)\")"
   ]
  },
  {
   "cell_type": "markdown",
   "metadata": {},
   "source": [
    "After the problematic structure is excluded, the most stable adsorption configuration on each slab and each adsorbate is found in the remaining structures. Here, the list of adsorbates contained in reactions and the list of corresponding reactions are passed in. Then the step energy of the corresponding adsorbates are calculated according to reaction formulas, which can be queried, modified or added in the **dataset** script."
   ]
  },
  {
   "cell_type": "code",
   "execution_count": 4,
   "metadata": {
    "ExecuteTime": {
     "end_time": "2024-03-22T13:44:52.094000Z",
     "start_time": "2024-03-22T13:44:51.948000Z"
    }
   },
   "outputs": [
    {
     "name": "stdout",
     "output_type": "stream",
     "text": [
      "--------------------------Calculate Ads Energy---------------------------\n",
      "                          Adsb_list : ['N2', 'NNH', 'NH', 'NH2', 'NH3']\n",
      "                     Reaction_types : ['NRR']\n",
      "                      System number : 3\n",
      "                        Pair number : 15\n",
      "                     Nan pair count : 0\n",
      "                   Calculated count : 15\n",
      "--------------------------Calculation Compelete--------------------------\n"
     ]
    }
   ],
   "source": [
    "CPP.find_stablest_adss(['N2', 'NNH', 'NH', 'NH2', 'NH3'], ['NRR'])"
   ]
  },
  {
   "cell_type": "markdown",
   "metadata": {},
   "source": [
    "Once the most stable structures and their energies have been obtained, the following commands can be used to find out if there are more stable energies in the structures previously considered for further inspection, and if any, further examination of these structures is recommended."
   ]
  },
  {
   "cell_type": "code",
   "execution_count": 5,
   "metadata": {
    "ExecuteTime": {
     "end_time": "2024-03-22T13:44:52.163000Z",
     "start_time": "2024-03-22T13:44:52.096000Z"
    }
   },
   "outputs": [
    {
     "name": "stdout",
     "output_type": "stream",
     "text": [
      "----------------------------Inspection Energy----------------------------\n",
      "                       Inspect adss :    E_inspect       E_lower\n",
      "                   Ga3Sc_NNHh_90_1t : -87.28278283 -0.4113317000000052\n",
      "-----------------------------Inspection Done-----------------------------\n"
     ]
    }
   ],
   "source": [
    "CPP.inspecting_energy()"
   ]
  },
  {
   "cell_type": "markdown",
   "metadata": {},
   "source": [
    "After finding the adsorption configuration with the most stable energy of each adsorbate, the potential barrier of the reaction can be calculated. Here, a list of three dimensions is needed to define the reaction path, and the program will query the energy change of the adjacent two in each list as the potential barrier.\n",
    "\n",
    "Multiple third-level lists in the second-level list represent different reaction paths，like[ [ [ 'NNH', 'NNH2' ], [ 'NNH', 'NHNH' ] ] ]."
   ]
  },
  {
   "cell_type": "code",
   "execution_count": 6,
   "metadata": {
    "ExecuteTime": {
     "end_time": "2024-03-22T13:44:52.251000Z",
     "start_time": "2024-03-22T13:44:52.168000Z"
    }
   },
   "outputs": [
    {
     "name": "stdout",
     "output_type": "stream",
     "text": [
      "----------------------------Find_Barrier_PDS-----------------------------\n",
      "                        Max barrier : Ga3Sc - N2->NNH - 1.4027814250000006\n",
      "                        Min barrier : Sn3Y - N2->NNH - 1.3088210049999986\n",
      "                          PDS count : N2->NNH: 3\n",
      "                 Zreo barrier count : 0\n",
      "-----------------------------------END-----------------------------------\n"
     ]
    }
   ],
   "source": [
    "CPP.find_barrier([[['N2', 'NNH']], [['NH', 'NH2', 'NH3']]])"
   ]
  },
  {
   "cell_type": "markdown",
   "metadata": {},
   "source": [
    "After calculating adsortion energies, the linear relationship of adsorption energy between each adsorbent can be quickly fitted and viewed."
   ]
  },
  {
   "cell_type": "code",
   "execution_count": 7,
   "metadata": {
    "ExecuteTime": {
     "end_time": "2024-03-22T13:44:52.399000Z",
     "start_time": "2024-03-22T13:44:52.263000Z"
    }
   },
   "outputs": [
    {
     "name": "stdout",
     "output_type": "stream",
     "text": [
      "---------------------------Fit_Linear_Relation---------------------------\n",
      "                    Relation number : 20\n",
      "                       Max R² score : N2_NH2 - 0.9920781458448504\n",
      "                       Min R² score : NH_N2 - 0.009943813198988405\n",
      "             Percentage of R² > 0.9 :  4 / 20\n",
      "-----------------------------------END-----------------------------------\n"
     ]
    }
   ],
   "source": [
    "CPP.fit_linear_relation()"
   ]
  },
  {
   "cell_type": "code",
   "execution_count": 8,
   "metadata": {
    "ExecuteTime": {
     "end_time": "2024-03-22T13:44:52.454000Z",
     "start_time": "2024-03-22T13:44:52.401000Z"
    }
   },
   "outputs": [
    {
     "data": {
      "text/plain": [
       "{'x': 'N2',\n",
       " 'y': 'NNH',\n",
       " 'k': 0.22919545234410915,\n",
       " 'b': 1.300741002907515,\n",
       " 'R2': 0.17016808219443602}"
      ]
     },
     "execution_count": 8,
     "metadata": {},
     "output_type": "execute_result"
    }
   ],
   "source": [
    "CPP.df_lr.at['N2', 'NNH']"
   ]
  },
  {
   "cell_type": "markdown",
   "metadata": {},
   "source": [
    "If desired, an energy of the end product can be added, where the two inputs represent the reaction and the name of the end product. This requires the product to be defined in the **dataset** script."
   ]
  },
  {
   "cell_type": "code",
   "execution_count": 9,
   "metadata": {
    "ExecuteTime": {
     "end_time": "2024-03-22T13:44:52.549000Z",
     "start_time": "2024-03-22T13:44:52.456000Z"
    }
   },
   "outputs": [
    {
     "name": "stdout",
     "output_type": "stream",
     "text": [
      "--------------------------------Add Prod---------------------------------\n",
      "                             NH3(g) : -0.6390999400000013\n",
      "-----------------------------------END-----------------------------------\n"
     ]
    }
   ],
   "source": [
    "CPP.add_prod('NRR', 'NH3(g)')"
   ]
  },
  {
   "cell_type": "markdown",
   "metadata": {},
   "source": [
    "Check the **df_path_step** to see the energy, barrier, PDS and other information of each adsorbate corresponding to each slab."
   ]
  },
  {
   "cell_type": "code",
   "execution_count": 10,
   "metadata": {
    "ExecuteTime": {
     "end_time": "2024-03-22T13:44:52.649000Z",
     "start_time": "2024-03-22T13:44:52.552000Z"
    }
   },
   "outputs": [
    {
     "data": {
      "text/html": [
       "<div>\n",
       "<style scoped>\n",
       "    .dataframe tbody tr th:only-of-type {\n",
       "        vertical-align: middle;\n",
       "    }\n",
       "\n",
       "    .dataframe tbody tr th {\n",
       "        vertical-align: top;\n",
       "    }\n",
       "\n",
       "    .dataframe thead th {\n",
       "        text-align: right;\n",
       "    }\n",
       "</style>\n",
       "<table border=\"1\" class=\"dataframe\">\n",
       "  <thead>\n",
       "    <tr style=\"text-align: right;\">\n",
       "      <th></th>\n",
       "      <th>N2</th>\n",
       "      <th>NNH</th>\n",
       "      <th>NH</th>\n",
       "      <th>NH2</th>\n",
       "      <th>NH3</th>\n",
       "      <th>barrier</th>\n",
       "      <th>PDS</th>\n",
       "      <th>NH3(g)</th>\n",
       "    </tr>\n",
       "  </thead>\n",
       "  <tbody>\n",
       "    <tr>\n",
       "      <th>Ga3Sc</th>\n",
       "      <td>-0.145807</td>\n",
       "      <td>1.256974</td>\n",
       "      <td>0.573475</td>\n",
       "      <td>-0.62796</td>\n",
       "      <td>-1.110687</td>\n",
       "      <td>1.402781</td>\n",
       "      <td>N2-&gt;NNH</td>\n",
       "      <td>-0.6391</td>\n",
       "    </tr>\n",
       "    <tr>\n",
       "      <th>ScYTiGaGeSn</th>\n",
       "      <td>-0.073361</td>\n",
       "      <td>1.315445</td>\n",
       "      <td>-0.670773</td>\n",
       "      <td>-0.815012</td>\n",
       "      <td>-1.203226</td>\n",
       "      <td>1.388806</td>\n",
       "      <td>N2-&gt;NNH</td>\n",
       "      <td>-0.6391</td>\n",
       "    </tr>\n",
       "    <tr>\n",
       "      <th>Sn3Y</th>\n",
       "      <td>-0.037947</td>\n",
       "      <td>1.270874</td>\n",
       "      <td>0.71966</td>\n",
       "      <td>-0.876187</td>\n",
       "      <td>-1.202499</td>\n",
       "      <td>1.308821</td>\n",
       "      <td>N2-&gt;NNH</td>\n",
       "      <td>-0.6391</td>\n",
       "    </tr>\n",
       "  </tbody>\n",
       "</table>\n",
       "</div>"
      ],
      "text/plain": [
       "                   N2       NNH        NH       NH2       NH3   barrier  \\\n",
       "Ga3Sc       -0.145807  1.256974  0.573475  -0.62796 -1.110687  1.402781   \n",
       "ScYTiGaGeSn -0.073361  1.315445 -0.670773 -0.815012 -1.203226  1.388806   \n",
       "Sn3Y        -0.037947  1.270874   0.71966 -0.876187 -1.202499  1.308821   \n",
       "\n",
       "                 PDS  NH3(g)  \n",
       "Ga3Sc        N2->NNH -0.6391  \n",
       "ScYTiGaGeSn  N2->NNH -0.6391  \n",
       "Sn3Y         N2->NNH -0.6391  "
      ]
     },
     "execution_count": 10,
     "metadata": {},
     "output_type": "execute_result"
    }
   ],
   "source": [
    "CPP.df_path_step"
   ]
  },
  {
   "cell_type": "markdown",
   "metadata": {},
   "source": [
    "**export_adss_names** can be used to output the names of structures that require further inspection, or that have the lowest energy, for further post-processing."
   ]
  },
  {
   "cell_type": "code",
   "execution_count": 11,
   "metadata": {
    "ExecuteTime": {
     "end_time": "2024-03-22T13:44:52.743000Z",
     "start_time": "2024-03-22T13:44:52.654000Z"
    }
   },
   "outputs": [
    {
     "name": "stdout",
     "output_type": "stream",
     "text": [
      "-------------------------------Export adss-------------------------------\n",
      "                          Save file : example\\data_process&reaction\\str_list_inspect\n",
      "-----------------------------------END-----------------------------------\n"
     ]
    }
   ],
   "source": [
    "CPP.export_adss_names('inspect', 'str_list_inspect')"
   ]
  },
  {
   "cell_type": "code",
   "execution_count": 12,
   "metadata": {
    "ExecuteTime": {
     "end_time": "2024-03-22T13:44:52.842000Z",
     "start_time": "2024-03-22T13:44:52.745000Z"
    }
   },
   "outputs": [
    {
     "name": "stdout",
     "output_type": "stream",
     "text": [
      "-------------------------------Export adss-------------------------------\n",
      "                          Save file : example\\data_process&reaction\\str_list_emin\n",
      "-----------------------------------END-----------------------------------\n"
     ]
    }
   ],
   "source": [
    "CPP.export_adss_names('Emin', 'str_list_emin')"
   ]
  },
  {
   "cell_type": "markdown",
   "metadata": {},
   "source": [
    "## Calculated reaction energy\n",
    "If there is no need to screen the configuration, the script can also be used to quickly calculate the adsorption energy according to the formula. After reading the calculation results, calculate all adsorption energies using **calculate_energy_all** and finally view the results in **df_adss**. reactions can be viewed, modified, or added in **dataset** scripts."
   ]
  },
  {
   "cell_type": "code",
   "execution_count": 13,
   "metadata": {
    "ExecuteTime": {
     "end_time": "2024-03-22T13:44:52.995000Z",
     "start_time": "2024-03-22T13:44:52.845000Z"
    }
   },
   "outputs": [
    {
     "name": "stdout",
     "output_type": "stream",
     "text": [
      "--------------------------------Read Data--------------------------------\n",
      "                          Adss Data : Read Complete - (42, 16)\n",
      "                          Slab Data : Read Complete - (3, 9)\n",
      "                          Gcor Data : Read Complete - (15, 8)\n",
      "                          Task type : calculate energy and G correction\n",
      "-----------------------------Read Compelete------------------------------\n"
     ]
    }
   ],
   "source": [
    "CPP = Catalytic_Post_Process()\n",
    "CPP.read_excel('adss.xlsx', 'slab.xlsx', 'Gcor.xlsx', file_path=r'example\\data_process&reaction')"
   ]
  },
  {
   "cell_type": "code",
   "execution_count": 14,
   "metadata": {
    "ExecuteTime": {
     "end_time": "2024-03-22T13:44:53.071000Z",
     "start_time": "2024-03-22T13:44:52.997000Z"
    }
   },
   "outputs": [
    {
     "name": "stdout",
     "output_type": "stream",
     "text": [
      "--------------------------Calculate Energy All---------------------------\n",
      "                        Calculation : Complete\n",
      "                   Calculated count : 15\n",
      "                      Ignored count : 27\n",
      "-----------------------------------END-----------------------------------\n"
     ]
    }
   ],
   "source": [
    "CPP.calculate_energy_all(['NRR', 'HER'])"
   ]
  },
  {
   "cell_type": "code",
   "execution_count": 15,
   "metadata": {
    "ExecuteTime": {
     "end_time": "2024-03-22T13:44:53.155000Z",
     "start_time": "2024-03-22T13:44:53.073000Z"
    }
   },
   "outputs": [
    {
     "data": {
      "text/html": [
       "<div>\n",
       "<style scoped>\n",
       "    .dataframe tbody tr th:only-of-type {\n",
       "        vertical-align: middle;\n",
       "    }\n",
       "\n",
       "    .dataframe tbody tr th {\n",
       "        vertical-align: top;\n",
       "    }\n",
       "\n",
       "    .dataframe thead th {\n",
       "        text-align: right;\n",
       "    }\n",
       "</style>\n",
       "<table border=\"1\" class=\"dataframe\">\n",
       "  <thead>\n",
       "    <tr style=\"text-align: right;\">\n",
       "      <th></th>\n",
       "      <th>ads_sys</th>\n",
       "      <th>energy</th>\n",
       "    </tr>\n",
       "  </thead>\n",
       "  <tbody>\n",
       "    <tr>\n",
       "      <th>0</th>\n",
       "      <td>Ga3Sc_N2v_0_0t</td>\n",
       "      <td>-0.145807</td>\n",
       "    </tr>\n",
       "    <tr>\n",
       "      <th>1</th>\n",
       "      <td>Ga3Sc_NH_0_1h</td>\n",
       "      <td>0.573475</td>\n",
       "    </tr>\n",
       "    <tr>\n",
       "      <th>2</th>\n",
       "      <td>Ga3Sc_NH2_45_0t</td>\n",
       "      <td>-0.627960</td>\n",
       "    </tr>\n",
       "    <tr>\n",
       "      <th>3</th>\n",
       "      <td>Ga3Sc_NH3_0_0t</td>\n",
       "      <td>-1.110687</td>\n",
       "    </tr>\n",
       "    <tr>\n",
       "      <th>4</th>\n",
       "      <td>Ga3Sc_NNHv_0_0t</td>\n",
       "      <td>1.256974</td>\n",
       "    </tr>\n",
       "    <tr>\n",
       "      <th>5</th>\n",
       "      <td>ScYTiGaGeSn_N2v_0_0t</td>\n",
       "      <td>-0.073361</td>\n",
       "    </tr>\n",
       "    <tr>\n",
       "      <th>6</th>\n",
       "      <td>ScYTiGaGeSn_NH_0_1h</td>\n",
       "      <td>-0.670773</td>\n",
       "    </tr>\n",
       "    <tr>\n",
       "      <th>7</th>\n",
       "      <td>ScYTiGaGeSn_NH2_45_0t</td>\n",
       "      <td>-0.815012</td>\n",
       "    </tr>\n",
       "    <tr>\n",
       "      <th>8</th>\n",
       "      <td>ScYTiGaGeSn_NH3_0_0t</td>\n",
       "      <td>-1.203226</td>\n",
       "    </tr>\n",
       "    <tr>\n",
       "      <th>9</th>\n",
       "      <td>ScYTiGaGeSn_NNHh_45_0t</td>\n",
       "      <td>1.315445</td>\n",
       "    </tr>\n",
       "    <tr>\n",
       "      <th>10</th>\n",
       "      <td>Sn3Y_N2v_0_0t</td>\n",
       "      <td>-0.037947</td>\n",
       "    </tr>\n",
       "    <tr>\n",
       "      <th>11</th>\n",
       "      <td>Sn3Y_NH_0_0t</td>\n",
       "      <td>0.719660</td>\n",
       "    </tr>\n",
       "    <tr>\n",
       "      <th>12</th>\n",
       "      <td>Sn3Y_NH2_45_0t</td>\n",
       "      <td>-0.876187</td>\n",
       "    </tr>\n",
       "    <tr>\n",
       "      <th>13</th>\n",
       "      <td>Sn3Y_NH3_0_0t</td>\n",
       "      <td>-1.202499</td>\n",
       "    </tr>\n",
       "    <tr>\n",
       "      <th>14</th>\n",
       "      <td>Sn3Y_NNHh_45_0t</td>\n",
       "      <td>1.270874</td>\n",
       "    </tr>\n",
       "  </tbody>\n",
       "</table>\n",
       "</div>"
      ],
      "text/plain": [
       "                   ads_sys    energy\n",
       "0           Ga3Sc_N2v_0_0t -0.145807\n",
       "1            Ga3Sc_NH_0_1h  0.573475\n",
       "2          Ga3Sc_NH2_45_0t -0.627960\n",
       "3           Ga3Sc_NH3_0_0t -1.110687\n",
       "4          Ga3Sc_NNHv_0_0t  1.256974\n",
       "5     ScYTiGaGeSn_N2v_0_0t -0.073361\n",
       "6      ScYTiGaGeSn_NH_0_1h -0.670773\n",
       "7    ScYTiGaGeSn_NH2_45_0t -0.815012\n",
       "8     ScYTiGaGeSn_NH3_0_0t -1.203226\n",
       "9   ScYTiGaGeSn_NNHh_45_0t  1.315445\n",
       "10           Sn3Y_N2v_0_0t -0.037947\n",
       "11            Sn3Y_NH_0_0t  0.719660\n",
       "12          Sn3Y_NH2_45_0t -0.876187\n",
       "13           Sn3Y_NH3_0_0t -1.202499\n",
       "14         Sn3Y_NNHh_45_0t  1.270874"
      ]
     },
     "execution_count": 15,
     "metadata": {},
     "output_type": "execute_result"
    }
   ],
   "source": [
    "CPP.df_adss.loc[:, ['ads_sys', 'energy']]"
   ]
  },
  {
   "cell_type": "code",
   "execution_count": 16,
   "metadata": {
    "ExecuteTime": {
     "end_time": "2024-03-22T13:44:53.315000Z",
     "start_time": "2024-03-22T13:44:53.158000Z"
    }
   },
   "outputs": [
    {
     "name": "stdout",
     "output_type": "stream",
     "text": [
      "----------------------------Export DataFrame-----------------------------\n",
      "                         Save excel : example\\data_process&reaction\\Gcal.xlsx\n",
      "-----------------------------------END-----------------------------------\n"
     ]
    }
   ],
   "source": [
    "CPP.export_df(CPP.df_adss.loc[:, ['ads_sys', 'adsb', 'site', 'energy']], 'Gcal.xlsx')"
   ]
  }
 ],
 "metadata": {
  "kernelspec": {
   "display_name": "Python 3",
   "language": "python",
   "name": "python3"
  },
  "language_info": {
   "codemirror_mode": {
    "name": "ipython",
    "version": 3
   },
   "file_extension": ".py",
   "mimetype": "text/x-python",
   "name": "python",
   "nbconvert_exporter": "python",
   "pygments_lexer": "ipython3",
   "version": "3.8.0"
  },
  "toc": {
   "base_numbering": 1,
   "nav_menu": {},
   "number_sections": true,
   "sideBar": true,
   "skip_h1_title": false,
   "title_cell": "Table of Contents",
   "title_sidebar": "Contents",
   "toc_cell": false,
   "toc_position": {},
   "toc_section_display": true,
   "toc_window_display": false
  }
 },
 "nbformat": 4,
 "nbformat_minor": 4
}
