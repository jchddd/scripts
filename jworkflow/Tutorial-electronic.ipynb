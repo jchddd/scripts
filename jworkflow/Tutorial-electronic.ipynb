{
 "cells": [
  {
   "cell_type": "markdown",
   "metadata": {},
   "source": [
    "This paper mainly introduces the use of **electroinc** script, which uses **pymatgen** to read and process the calculation results of DOS and COHP.\n",
    "- **DOS_Process**: Read DOS information from an vasprun.xml file\n",
    "- **Lobster_PProcess**: Read and process COHP results  \n",
    "\n",
    "All energy information is subtracted from Fermi level by default"
   ]
  },
  {
   "cell_type": "code",
   "execution_count": 1,
   "metadata": {
    "ExecuteTime": {
     "end_time": "2024-08-30T08:18:59.389000Z",
     "start_time": "2024-08-30T08:18:56.912000Z"
    }
   },
   "outputs": [],
   "source": [
    "from Jworkflow.electronic import DOS_Process, Lobster_PProcess\n",
    "from Jworkflow.plot import gradient_graphics\n",
    "import matplotlib.pyplot as plt"
   ]
  },
  {
   "cell_type": "markdown",
   "metadata": {},
   "source": [
    "# DOS_Process\n",
    "First read a **vasprun.xml** file containing the results of the DOS."
   ]
  },
  {
   "cell_type": "code",
   "execution_count": 2,
   "metadata": {
    "ExecuteTime": {
     "end_time": "2024-08-30T08:18:59.638000Z",
     "start_time": "2024-08-30T08:18:59.390000Z"
    }
   },
   "outputs": [],
   "source": [
    "DP=DOS_Process()\n",
    "DP.read_xml('example/electronic/vasprun.xml')"
   ]
  },
  {
   "cell_type": "markdown",
   "metadata": {},
   "source": [
    "You can use built-in functions to calculate the D-band properties of individual atoms, like"
   ]
  },
  {
   "cell_type": "code",
   "execution_count": 3,
   "metadata": {
    "ExecuteTime": {
     "end_time": "2024-08-30T08:18:59.651000Z",
     "start_time": "2024-08-30T08:18:59.640000Z"
    }
   },
   "outputs": [
    {
     "data": {
      "text/plain": [
       "-0.64"
      ]
     },
     "execution_count": 3,
     "metadata": {},
     "output_type": "execute_result"
    }
   ],
   "source": [
    "DP.D_band_center(0)"
   ]
  },
  {
   "cell_type": "code",
   "execution_count": 4,
   "metadata": {
    "ExecuteTime": {
     "end_time": "2024-08-30T08:18:59.754000Z",
     "start_time": "2024-08-30T08:18:59.654000Z"
    }
   },
   "outputs": [
    {
     "data": {
      "text/plain": [
       "3.82"
      ]
     },
     "execution_count": 4,
     "metadata": {},
     "output_type": "execute_result"
    }
   ],
   "source": [
    "DP.D_band_width(0)"
   ]
  },
  {
   "cell_type": "markdown",
   "metadata": {},
   "source": [
    "Or simply call **pymatgen** to compute multiple D-band properties for a series of atoms."
   ]
  },
  {
   "cell_type": "code",
   "execution_count": 5,
   "metadata": {
    "ExecuteTime": {
     "end_time": "2024-08-30T08:18:59.856000Z",
     "start_time": "2024-08-30T08:18:59.755000Z"
    }
   },
   "outputs": [
    {
     "data": {
      "text/plain": [
       "{'band center': -0.6387634758450015,\n",
       " 'band width': 3.8142777447668865,\n",
       " 'band kurtosis': 9.300256967437907,\n",
       " 'band skewness': 1.0580331467207027,\n",
       " 'band filling': 0.6261710491143083,\n",
       " 'upper band edge': 1.8522390700000013}"
      ]
     },
     "execution_count": 5,
     "metadata": {},
     "output_type": "execute_result"
    }
   ],
   "source": [
    "DP.all_band_properities([0,1])"
   ]
  },
  {
   "cell_type": "markdown",
   "metadata": {},
   "source": [
    "When dealing with spin polarization density of states, the built-in function handles different spin states separately, while calling pymatgen handles them together.  \n",
    "\n",
    "**get_E_DOS** is used to read energies and DOS of the corresponding atom for plotting purposes."
   ]
  },
  {
   "cell_type": "code",
   "execution_count": 6,
   "metadata": {
    "ExecuteTime": {
     "end_time": "2024-08-30T08:19:00.151000Z",
     "start_time": "2024-08-30T08:18:59.857000Z"
    }
   },
   "outputs": [
    {
     "data": {
      "text/plain": [
       "(-10, 10)"
      ]
     },
     "execution_count": 6,
     "metadata": {},
     "output_type": "execute_result"
    },
    {
     "data": {
      "image/png": "[encoded data removed]",
      "text/plain": [
       "<Figure size 432x288 with 1 Axes>"
      ]
     },
     "metadata": {
      "needs_background": "light"
     },
     "output_type": "display_data"
    }
   ],
   "source": [
    "E, DOS = DP.get_E_DOS(0)\n",
    "\n",
    "plt.plot(E, DOS[0])\n",
    "ax=plt.gca()\n",
    "ax.set_xlim([-10,10])"
   ]
  },
  {
   "cell_type": "markdown",
   "metadata": {},
   "source": [
    "# Lobster_PProcess\n",
    "This class reads **LOBSTER** results, including **COHPCAR.lobster**， **COOPCAR.lobster** and **DOSCAR.lobster**. Enter these files and the corresponding structure."
   ]
  },
  {
   "cell_type": "code",
   "execution_count": 7,
   "metadata": {
    "ExecuteTime": {
     "end_time": "2024-08-30T08:19:00.173000Z",
     "start_time": "2024-08-30T08:19:00.153000Z"
    }
   },
   "outputs": [],
   "source": [
    "LP=Lobster_PProcess()\n",
    "LP.read_car('example/electronic/COHPCAR.lobster', 'example/electronic/Ru2HfIn_N2h_0_1c.vasp')"
   ]
  },
  {
   "cell_type": "markdown",
   "metadata": {},
   "source": [
    "Use **show_bonds** to query the current COHP calculation for which atomic pair interactions are included, and then use **get_coxp** to get the COHP data for the corresponding atomic pair. Note that when dealing with COHP and COOP related data, the index starts at 1."
   ]
  },
  {
   "cell_type": "code",
   "execution_count": 8,
   "metadata": {
    "ExecuteTime": {
     "end_time": "2024-08-30T08:19:00.339000Z",
     "start_time": "2024-08-30T08:19:00.179000Z"
    }
   },
   "outputs": [
    {
     "name": "stdout",
     "output_type": "stream",
     "text": [
      " 1     44Ru-66N\n",
      " 2     10Hf-66N\n",
      " 3      65N-66N\n"
     ]
    }
   ],
   "source": [
    "LP.show_bonds()"
   ]
  },
  {
   "cell_type": "code",
   "execution_count": 9,
   "metadata": {
    "ExecuteTime": {
     "end_time": "2024-08-30T08:19:00.578000Z",
     "start_time": "2024-08-30T08:19:00.341000Z"
    }
   },
   "outputs": [
    {
     "data": {
      "text/plain": [
       "[<matplotlib.lines.Line2D at 0x14a5b580>]"
      ]
     },
     "execution_count": 9,
     "metadata": {},
     "output_type": "execute_result"
    },
    {
     "data": {
      "image/png": "[encoded data removed]",
      "text/plain": [
       "<Figure size 432x288 with 1 Axes>"
      ]
     },
     "metadata": {
      "needs_background": "light"
     },
     "output_type": "display_data"
    }
   ],
   "source": [
    "cohp=LP.get_coxp(1)\n",
    "\n",
    "plt.plot(cohp['energies'], cohp['COHP']['1'])"
   ]
  },
  {
   "cell_type": "markdown",
   "metadata": {},
   "source": [
    "You can also read the state density file calculated by **LOBSTER**"
   ]
  },
  {
   "cell_type": "code",
   "execution_count": 10,
   "metadata": {
    "ExecuteTime": {
     "end_time": "2024-08-30T08:19:00.957000Z",
     "start_time": "2024-08-30T08:19:00.581000Z"
    }
   },
   "outputs": [],
   "source": [
    "LP.read_car('example/electronic/DOSCAR.lobster', 'example/electronic/Ru2HfIn_N2h_0_1c.vasp', 'dos')"
   ]
  },
  {
   "cell_type": "code",
   "execution_count": 11,
   "metadata": {
    "ExecuteTime": {
     "end_time": "2024-08-30T08:19:01.136000Z",
     "start_time": "2024-08-30T08:19:00.961000Z"
    }
   },
   "outputs": [
    {
     "data": {
      "text/plain": [
       "[<matplotlib.lines.Line2D at 0x14aa3f10>]"
      ]
     },
     "execution_count": 11,
     "metadata": {},
     "output_type": "execute_result"
    },
    {
     "data": {
      "image/png": "[encoded data removed]",
      "text/plain": [
       "<Figure size 432x288 with 1 Axes>"
      ]
     },
     "metadata": {
      "needs_background": "light"
     },
     "output_type": "display_data"
    }
   ],
   "source": [
    "dos=LP.get_dos(43, 'd')\n",
    "\n",
    "plt.plot(dos['energies'], dos['dos'])"
   ]
  }
 ],
 "metadata": {
  "kernelspec": {
   "display_name": "Python 3",
   "language": "python",
   "name": "python3"
  },
  "language_info": {
   "codemirror_mode": {
    "name": "ipython",
    "version": 3
   },
   "file_extension": ".py",
   "mimetype": "text/x-python",
   "name": "python",
   "nbconvert_exporter": "python",
   "pygments_lexer": "ipython3",
   "version": "3.8.0"
  },
  "toc": {
   "base_numbering": 1,
   "nav_menu": {},
   "number_sections": true,
   "sideBar": true,
   "skip_h1_title": false,
   "title_cell": "Table of Contents",
   "title_sidebar": "Contents",
   "toc_cell": false,
   "toc_position": {},
   "toc_section_display": true,
   "toc_window_display": false
  }
 },
 "nbformat": 4,
 "nbformat_minor": 4
}
